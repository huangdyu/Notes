{
 "cells": [
  {
   "attachments": {},
   "cell_type": "markdown",
   "metadata": {},
   "source": [
    "## Feature Engineering\n",
    "\n",
    "#### Major tasks in Data Preparation\n",
    "\n",
    "* Data Integration \n",
    "\n",
    "    Collect data, select data and integrate data\n",
    "\n",
    "* Data Cleaning\n",
    "\n",
    "    Impute missing values, reduce noise in data and eliminate inconsistencies\n",
    "\n",
    "* Data Transformation\n",
    "\n",
    "    Discretize / aggregate data, extract / transform features, select features\n",
    "\n",
    "* Data Reduction\n",
    "\n",
    "    Reduce number of variables, reduce number of cases, balance skewed data\n",
    "\n",
    "* Data description\n",
    "\n",
    "    Summary statistics, data visualization\n",
    "\n",
    "#### Feature Transformation\n",
    "\n",
    "##### Normalization\n",
    "\n",
    "* Min-Max Normalization \n",
    "$$X^* = \\frac{X - min(X)}{range(X)} = \\frac{X - min(X)}{X_{max} - X_{min}}$$\n",
    "\n",
    "* Z_score Normalization:  To scale the values of a variable to have mean 0 and variance 1\n",
    "$$X^* = \\frac{X - mean}{std}$$\n",
    "\n",
    "&emsp;&emsp; *Note*:Mean and variance are sensitive to outliers. In this case, use robust estimates: median and interquartile range\n",
    "\n",
    "##### Binning(Discretization)\n",
    "\n",
    "Transform a continuous variable to an ordinal variable\n",
    "\n",
    "* Equal width binning: Divide data into k equally spaced intervals\n",
    "\n",
    "* Equal frequency binning: Divide data into k bins with approximately the same frequency in each bin\n",
    "\n",
    "* Clustering: K-means\n",
    "\n",
    "##### Missing value\n",
    "\n",
    "* Just delete the whole record contain the missing value \n",
    "\n",
    "* Impute the missing value (0, mean, median,...)\n",
    "\n",
    "* Use models which support missing values, eg. random forest\n"
   ]
  },
  {
   "cell_type": "markdown",
   "metadata": {},
   "source": []
  }
 ],
 "metadata": {
  "kernelspec": {
   "display_name": "hardenyu",
   "language": "python",
   "name": "python3"
  },
  "language_info": {
   "codemirror_mode": {
    "name": "ipython",
    "version": 3
   },
   "file_extension": ".py",
   "mimetype": "text/x-python",
   "name": "python",
   "nbconvert_exporter": "python",
   "pygments_lexer": "ipython3",
   "version": "3.9.13"
  },
  "orig_nbformat": 4
 },
 "nbformat": 4,
 "nbformat_minor": 2
}
